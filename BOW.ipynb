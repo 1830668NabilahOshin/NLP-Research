{
  "nbformat": 4,
  "nbformat_minor": 0,
  "metadata": {
    "colab": {
      "provenance": []
    },
    "kernelspec": {
      "name": "python3",
      "display_name": "Python 3"
    },
    "language_info": {
      "name": "python"
    }
  },
  "cells": [
    {
      "cell_type": "markdown",
      "source": [],
      "metadata": {
        "id": "03MjsWDWgNjK"
      }
    },
    {
      "cell_type": "markdown",
      "source": [
        "<html>\n",
        "<Head>\n",
        "<h1 style=\"color:blue; align:center\"> Can your Machine be Human enough to Understand your Language?</h1>\n",
        "<style>\n",
        "h1 { color : skyblue; align : center}\n",
        "</style>\n",
        "</Head>\n",
        "</html>\n",
        "\n",
        "\n",
        "\n",
        "\n"
      ],
      "metadata": {
        "id": "eT4bJvCi5h5E"
      }
    },
    {
      "cell_type": "markdown",
      "source": [
        "<html>\n",
        "<head>\n",
        "<h1 align=center><b><u>Bag of Words</b></u><h1>\n",
        "</head>\n",
        "<body>\n",
        "\n",
        "> A model for coverting language into vectors to use as input data to perform multiple programming tasks such as classification, similarity detection etc. \n",
        "The numbers in the converted vector is the logical representation of the words.\n",
        "\n",
        "BOW Steps: \n",
        "- Preprocessing the data \n",
        "    - Removing punctuations \n",
        "    - Turning the entire corpus into lowercase\n",
        "    - Removing stop words \n",
        "- Vocabulary \n",
        "- Word frequency \n",
        "- Vector representation\n",
        "\n",
        "<body>[link text](`https://`)"
      ],
      "metadata": {
        "id": "FjO5REtrJFv4"
      }
    },
    {
      "cell_type": "markdown",
      "source": [
        "# Importing necessary Libraries "
      ],
      "metadata": {
        "id": "gSAd4LiDUYom"
      }
    },
    {
      "cell_type": "code",
      "source": [
        "import nltk  \n",
        "import numpy as np  \n",
        "import random  \n",
        "import string\n",
        "\n",
        "import bs4 as bs  \n",
        "import urllib.request  \n",
        "import re  "
      ],
      "metadata": {
        "id": "LWaCI9wMUUgu"
      },
      "execution_count": null,
      "outputs": []
    },
    {
      "cell_type": "markdown",
      "source": [
        "# The Input Article"
      ],
      "metadata": {
        "id": "EFwm68f-Ukfs"
      }
    },
    {
      "cell_type": "code",
      "source": [
        "#Importing Raw HTML from an Article \n",
        "raw_html = urllib.request.urlopen('https://en.wikipedia.org/wiki/Natural_language_processing')  \n",
        "raw_html = raw_html.read()\n",
        "\n",
        "#Parse the data\n",
        "article_html = bs.BeautifulSoup(raw_html, 'lxml')\n",
        "\n",
        "#filtering paragraphs\n",
        "article_paragraphs = article_html.find_all('p')\n",
        "\n",
        "article_text = ''\n",
        "\n",
        "#Concatening all paragraphs \n",
        "for para in article_paragraphs:  \n",
        "    article_text += para.text"
      ],
      "metadata": {
        "id": "IObXLLYFU3QG"
      },
      "execution_count": null,
      "outputs": []
    },
    {
      "cell_type": "markdown",
      "source": [
        "# Sentence Tokenization "
      ],
      "metadata": {
        "id": "sdYWw5iaV0UZ"
      }
    },
    {
      "cell_type": "code",
      "source": [
        "#Splitting the corpus into individual sentences\n",
        "corpus = nltk.sent_tokenize(article_text)"
      ],
      "metadata": {
        "id": "072KrLNOV3Go"
      },
      "execution_count": null,
      "outputs": []
    },
    {
      "cell_type": "markdown",
      "source": [
        "#Turning into lowercase "
      ],
      "metadata": {
        "id": "RUEovK3uWmAK"
      }
    },
    {
      "cell_type": "code",
      "source": [
        "for i in range(len(corpus )):\n",
        "    corpus [i] = corpus [i].lower()"
      ],
      "metadata": {
        "id": "pV8JViXoWy6a"
      },
      "execution_count": null,
      "outputs": []
    },
    {
      "cell_type": "markdown",
      "source": [
        "# Removing punctuations using reg ex"
      ],
      "metadata": {
        "id": "8ZKZGqlVW0iS"
      }
    },
    {
      "cell_type": "code",
      "source": [
        "for i in range(len(corpus))\n",
        "corpus [i] = re.sub(r'\\W',' ',corpus [i])"
      ],
      "metadata": {
        "id": "1MYtP9fHW7xR"
      },
      "execution_count": null,
      "outputs": []
    },
    {
      "cell_type": "markdown",
      "source": [
        "# Removing empty spaces using reg ex\n",
        "\n",
        "\n",
        "\n"
      ],
      "metadata": {
        "id": "YHQ_HSj6XF9e"
      }
    },
    {
      "cell_type": "code",
      "source": [
        "for i in range(len(corpus))\n",
        "corpus [i] = re.sub(r'\\W',' ',corpus [i])"
      ],
      "metadata": {
        "id": "ZLlPAwb5XT0B"
      },
      "execution_count": null,
      "outputs": []
    },
    {
      "cell_type": "markdown",
      "source": [
        "# Sentence tokenization and word frequency \n"
      ],
      "metadata": {
        "id": "3C3sLiPbXjBy"
      }
    },
    {
      "cell_type": "code",
      "source": [
        "wordfreq = {}\n",
        "for sentence in corpus:\n",
        "    #Tokenization\n",
        "    tokens = nltk.word_tokenize(sentence)\n",
        "    #Word frequency\n",
        "    for token in tokens:\n",
        "        if token not in wordfreq.keys():\n",
        "            wordfreq[token] = 1\n",
        "        else:\n",
        "            wordfreq[token] += 1"
      ],
      "metadata": {
        "id": "vwRJH-xmYJX9"
      },
      "execution_count": null,
      "outputs": []
    },
    {
      "cell_type": "markdown",
      "source": [
        "#Filtering the vocabulary \n"
      ],
      "metadata": {
        "id": "lVeM3CM_YTrp"
      }
    },
    {
      "cell_type": "code",
      "source": [
        "import heapq\n",
        "#Getting 200 of the most frequent words in the corpus \n",
        "most_freq = heapq.nlargest(200, wordfreq, key=wordfreq.get)\n"
      ],
      "metadata": {
        "id": "a6G7SXbfYemZ"
      },
      "execution_count": null,
      "outputs": []
    },
    {
      "cell_type": "markdown",
      "source": [
        "#Converting the sentences into Vectors "
      ],
      "metadata": {
        "id": "mcvYwDlkYoCO"
      }
    },
    {
      "cell_type": "code",
      "source": [
        "# Vector of all sentences\n",
        "sentence_vectors = []\n",
        "for sentence in corpus:\n",
        "    sentence_tokens = nltk.word_tokenize(sentence)\n",
        "    #Vector of a sentence\n",
        "    sent_vec = []\n",
        "    for token in most_freq:\n",
        "        if token in sentence_tokens:\n",
        "            sent_vec.append(1)\n",
        "        else:\n",
        "            sent_vec.append(0)\n",
        "    sentence_vectors.append(sent_vec)"
      ],
      "metadata": {
        "id": "UjGcOrTGY9HD"
      },
      "execution_count": null,
      "outputs": []
    },
    {
      "cell_type": "markdown",
      "source": [
        "#Converting data into a Matrix \n"
      ],
      "metadata": {
        "id": "uYrk6bX3ZX0t"
      }
    },
    {
      "cell_type": "code",
      "source": [
        "sentence_vectors = np.asarray(sentence_vectors)"
      ],
      "metadata": {
        "id": "AIiW3wu-ZcgF"
      },
      "execution_count": null,
      "outputs": []
    }
  ]
}